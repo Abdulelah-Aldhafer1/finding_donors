{
 "cells": [
  {
   "cell_type": "markdown",
   "metadata": {},
   "source": [
    "## Supervised Learning\n",
    "## Project: Finding Donors for *CharityML*"
   ]
  },
  {
   "cell_type": "markdown",
   "metadata": {},
   "source": [
    "In this notebook, some template code has already been provided for you, and it will be your job to implement the additional functionality necessary to successfully complete this project. Sections that begin with **'Implementation'** in the header indicate that the following block of code will require additional functionality which you must provide. Instructions will be provided for each section and the specifics of the implementation are marked in the code block with a `'TODO'` statement. Please be sure to read the instructions carefully!\n",
    "\n",
    "In addition to implementing code, there will be questions that you must answer which relate to the project and your implementation. Each section where you will answer a question is preceded by a **'Question X'** header. Carefully read each question and provide thorough answers in the following text boxes that begin with **'Answer:'**. Your project submission will be evaluated based on your answers to each of the questions and the implementation you provide.  \n",
    "\n",
    ">**Note:** Please specify WHICH VERSION OF PYTHON you are using when submitting this notebook. Code and Markdown cells can be executed using the **Shift + Enter** keyboard shortcut. In addition, Markdown cells can be edited by typically double-clicking the cell to enter edit mode."
   ]
  },
  {
   "cell_type": "markdown",
   "metadata": {},
   "source": [
    "## Getting Started\n",
    "\n",
    "In this project, you will employ several supervised algorithms of your choice to accurately model individuals' income using data collected from the 1994 U.S. Census. You will then choose the best candidate algorithm from preliminary results and further optimize this algorithm to best model the data. Your goal with this implementation is to construct a model that accurately predicts whether an individual makes more than $50,000. This sort of task can arise in a non-profit setting, where organizations survive on donations.  Understanding an individual's income can help a non-profit better understand how large of a donation to request, or whether or not they should reach out to begin with.  While it can be difficult to determine an individual's general income bracket directly from public sources, we can (as we will see) infer this value from other publically available features. \n",
    "\n",
    "The dataset for this project originates from the [UCI Machine Learning Repository](https://archive.ics.uci.edu/ml/datasets/Census+Income). The datset was donated by Ron Kohavi and Barry Becker, after being published in the article _\"Scaling Up the Accuracy of Naive-Bayes Classifiers: A Decision-Tree Hybrid\"_. You can find the article by Ron Kohavi [online](https://www.aaai.org/Papers/KDD/1996/KDD96-033.pdf). The data we investigate here consists of small changes to the original dataset, such as removing the `'fnlwgt'` feature and records with missing or ill-formatted entries."
   ]
  },
  {
   "cell_type": "markdown",
   "metadata": {},
   "source": [
    "----\n",
    "## Exploring the Data\n",
    "Run the code cell below to load necessary Python libraries and load the census data. Note that the last column from this dataset, `'income'`, will be our target label (whether an individual makes more than, or at most, $50,000 annually). All other columns are features about each individual in the census database."
   ]
  },
  {
   "cell_type": "code",
   "execution_count": 3,
   "metadata": {},
   "outputs": [
    {
     "data": {
      "text/html": [
       "<div>\n",
       "<style scoped>\n",
       "    .dataframe tbody tr th:only-of-type {\n",
       "        vertical-align: middle;\n",
       "    }\n",
       "\n",
       "    .dataframe tbody tr th {\n",
       "        vertical-align: top;\n",
       "    }\n",
       "\n",
       "    .dataframe thead th {\n",
       "        text-align: right;\n",
       "    }\n",
       "</style>\n",
       "<table border=\"1\" class=\"dataframe\">\n",
       "  <thead>\n",
       "    <tr style=\"text-align: right;\">\n",
       "      <th></th>\n",
       "      <th>age</th>\n",
       "      <th>workclass</th>\n",
       "      <th>education_level</th>\n",
       "      <th>education-num</th>\n",
       "      <th>marital-status</th>\n",
       "      <th>occupation</th>\n",
       "      <th>relationship</th>\n",
       "      <th>race</th>\n",
       "      <th>sex</th>\n",
       "      <th>capital-gain</th>\n",
       "      <th>capital-loss</th>\n",
       "      <th>hours-per-week</th>\n",
       "      <th>native-country</th>\n",
       "      <th>income</th>\n",
       "    </tr>\n",
       "  </thead>\n",
       "  <tbody>\n",
       "    <tr>\n",
       "      <th>0</th>\n",
       "      <td>39</td>\n",
       "      <td>State-gov</td>\n",
       "      <td>Bachelors</td>\n",
       "      <td>13.0</td>\n",
       "      <td>Never-married</td>\n",
       "      <td>Adm-clerical</td>\n",
       "      <td>Not-in-family</td>\n",
       "      <td>White</td>\n",
       "      <td>Male</td>\n",
       "      <td>2174.0</td>\n",
       "      <td>0.0</td>\n",
       "      <td>40.0</td>\n",
       "      <td>United-States</td>\n",
       "      <td>&lt;=50K</td>\n",
       "    </tr>\n",
       "  </tbody>\n",
       "</table>\n",
       "</div>"
      ],
      "text/plain": [
       "   age   workclass education_level  education-num  marital-status  \\\n",
       "0   39   State-gov       Bachelors           13.0   Never-married   \n",
       "\n",
       "      occupation    relationship    race    sex  capital-gain  capital-loss  \\\n",
       "0   Adm-clerical   Not-in-family   White   Male        2174.0           0.0   \n",
       "\n",
       "   hours-per-week  native-country income  \n",
       "0            40.0   United-States  <=50K  "
      ]
     },
     "metadata": {},
     "output_type": "display_data"
    }
   ],
   "source": [
    "# Import libraries necessary for this project\n",
    "import numpy as np\n",
    "import pandas as pd\n",
    "from time import time\n",
    "from IPython.display import display # Allows the use of display() for DataFrames\n",
    "\n",
    "# Import supplementary visualization code visuals.py\n",
    "import visuals as vs\n",
    "\n",
    "# Pretty display for notebooks\n",
    "%matplotlib inline\n",
    "\n",
    "# Load the Census dataset\n",
    "data = pd.read_csv(\"census.csv\")\n",
    "\n",
    "# Success - Display the first record\n",
    "display(data.head(n=1))"
   ]
  },
  {
   "cell_type": "markdown",
   "metadata": {},
   "source": [
    "### Implementation: Data Exploration\n",
    "A cursory investigation of the dataset will determine how many individuals fit into either group, and will tell us about the percentage of these individuals making more than \\$50,000. In the code cell below, you will need to compute the following:\n",
    "- The total number of records, `'n_records'`\n",
    "- The number of individuals making more than \\$50,000 annually, `'n_greater_50k'`.\n",
    "- The number of individuals making at most \\$50,000 annually, `'n_at_most_50k'`.\n",
    "- The percentage of individuals making more than \\$50,000 annually, `'greater_percent'`.\n",
    "\n",
    "** HINT: ** You may need to look at the table above to understand how the `'income'` entries are formatted. "
   ]
  },
  {
   "cell_type": "code",
   "execution_count": 4,
   "metadata": {},
   "outputs": [
    {
     "name": "stdout",
     "output_type": "stream",
     "text": [
      "Total number of records: 45222\n",
      "Individuals making more than $50,000: 11208\n",
      "Individuals making at most $50,000: 34014\n",
      "Percentage of individuals making more than $50,000: 24.78%\n"
     ]
    }
   ],
   "source": [
    "# TODO: Total number of records\n",
    "n_records = len(data)\n",
    "\n",
    "# TODO: Number of records where individual's income is more than $50,000\n",
    "n_greater_50k = len(data[data['income'] == '>50K'])\n",
    "\n",
    "# TODO: Number of records where individual's income is at most $50,000\n",
    "n_at_most_50k = len(data[data['income'] == '<=50K'])\n",
    "\n",
    "# TODO: Percentage of individuals whose income is more than $50,000\n",
    "greater_percent = (n_greater_50k / float(n_records)) * 100\n",
    "\n",
    "# Print the results\n",
    "print(\"Total number of records: {}\".format(n_records))\n",
    "print(\"Individuals making more than $50,000: {}\".format(n_greater_50k))\n",
    "print(\"Individuals making at most $50,000: {}\".format(n_at_most_50k))\n",
    "print(\"Percentage of individuals making more than $50,000: {:.2f}%\".format(greater_percent))"
   ]
  },
  {
   "cell_type": "markdown",
   "metadata": {},
   "source": [
    "** Featureset Exploration **\n",
    "\n",
    "* **age**: continuous. \n",
    "* **workclass**: Private, Self-emp-not-inc, Self-emp-inc, Federal-gov, Local-gov, State-gov, Without-pay, Never-worked. \n",
    "* **education**: Bachelors, Some-college, 11th, HS-grad, Prof-school, Assoc-acdm, Assoc-voc, 9th, 7th-8th, 12th, Masters, 1st-4th, 10th, Doctorate, 5th-6th, Preschool. \n",
    "* **education-num**: continuous. \n",
    "* **marital-status**: Married-civ-spouse, Divorced, Never-married, Separated, Widowed, Married-spouse-absent, Married-AF-spouse. \n",
    "* **occupation**: Tech-support, Craft-repair, Other-service, Sales, Exec-managerial, Prof-specialty, Handlers-cleaners, Machine-op-inspct, Adm-clerical, Farming-fishing, Transport-moving, Priv-house-serv, Protective-serv, Armed-Forces. \n",
    "* **relationship**: Wife, Own-child, Husband, Not-in-family, Other-relative, Unmarried. \n",
    "* **race**: Black, White, Asian-Pac-Islander, Amer-Indian-Eskimo, Other. \n",
    "* **sex**: Female, Male. \n",
    "* **capital-gain**: continuous. \n",
    "* **capital-loss**: continuous. \n",
    "* **hours-per-week**: continuous. \n",
    "* **native-country**: United-States, Cambodia, England, Puerto-Rico, Canada, Germany, Outlying-US(Guam-USVI-etc), India, Japan, Greece, South, China, Cuba, Iran, Honduras, Philippines, Italy, Poland, Jamaica, Vietnam, Mexico, Portugal, Ireland, France, Dominican-Republic, Laos, Ecuador, Taiwan, Haiti, Columbia, Hungary, Guatemala, Nicaragua, Scotland, Thailand, Yugoslavia, El-Salvador, Trinadad&Tobago, Peru, Hong, Holand-Netherlands."
   ]
  },
  {
   "cell_type": "markdown",
   "metadata": {},
   "source": [
    "----\n",
    "## Preparing the Data\n",
    "Before data can be used as input for machine learning algorithms, it often must be cleaned, formatted, and restructured — this is typically known as **preprocessing**. Fortunately, for this dataset, there are no invalid or missing entries we must deal with, however, there are some qualities about certain features that must be adjusted. This preprocessing can help tremendously with the outcome and predictive power of nearly all learning algorithms."
   ]
  },
  {
   "cell_type": "markdown",
   "metadata": {},
   "source": [
    "### Transforming Skewed Continuous Features\n",
    "A dataset may sometimes contain at least one feature whose values tend to lie near a single number, but will also have a non-trivial number of vastly larger or smaller values than that single number.  Algorithms can be sensitive to such distributions of values and can underperform if the range is not properly normalized. With the census dataset two features fit this description: '`capital-gain'` and `'capital-loss'`. \n",
    "\n",
    "Run the code cell below to plot a histogram of these two features. Note the range of the values present and how they are distributed."
   ]
  },
  {
   "cell_type": "code",
   "execution_count": 5,
   "metadata": {},
   "outputs": [
    {
     "data": {
      "image/png": "[encoded data removed]",
      "text/plain": [
       "<matplotlib.figure.Figure at 0x7ff8c42e5eb8>"
      ]
     },
     "metadata": {
      "needs_background": "light"
     },
     "output_type": "display_data"
    }
   ],
   "source": [
    "# Split the data into features and target label\n",
    "income_raw = data['income']\n",
    "features_raw = data.drop('income', axis = 1)\n",
    "\n",
    "# Visualize skewed continuous features of original data\n",
    "vs.distribution(data)"
   ]
  },
  {
   "cell_type": "markdown",
   "metadata": {},
   "source": [
    "For highly-skewed feature distributions such as `'capital-gain'` and `'capital-loss'`, it is common practice to apply a <a href=\"https://en.wikipedia.org/wiki/Data_transformation_(statistics)\">logarithmic transformation</a> on the data so that the very large and very small values do not negatively affect the performance of a learning algorithm. Using a logarithmic transformation significantly reduces the range of values caused by outliers. Care must be taken when applying this transformation however: The logarithm of `0` is undefined, so we must translate the values by a small amount above `0` to apply the the logarithm successfully.\n",
    "\n",
    "Run the code cell below to perform a transformation on the data and visualize the results. Again, note the range of values and how they are distributed. "
   ]
  },
  {
   "cell_type": "code",
   "execution_count": 6,
   "metadata": {},
   "outputs": [
    {
     "data": {
      "image/png": "[encoded data removed]",
      "text/plain": [
       "<matplotlib.figure.Figure at 0x7ff89735fc88>"
      ]
     },
     "metadata": {
      "needs_background": "light"
     },
     "output_type": "display_data"
    }
   ],
   "source": [
    "# Log-transform the skewed features\n",
    "skewed = ['capital-gain', 'capital-loss']\n",
    "features_log_transformed = pd.DataFrame(data = features_raw)\n",
    "features_log_transformed[skewed] = features_raw[skewed].apply(lambda x: np.log(x + 1))\n",
    "\n",
    "# Visualize the new log distributions\n",
    "vs.distribution(features_log_transformed, transformed = True)"
   ]
  },
  {
   "cell_type": "markdown",
   "metadata": {},
   "source": [
    "### Normalizing Numerical Features\n",
    "In addition to performing transformations on features that are highly skewed, it is often good practice to perform some type of scaling on numerical features. Applying a scaling to the data does not change the shape of each feature's distribution (such as `'capital-gain'` or `'capital-loss'` above); however, normalization ensures that each feature is treated equally when applying supervised learners. Note that once scaling is applied, observing the data in its raw form will no longer have the same original meaning, as exampled below.\n",
    "\n",
    "Run the code cell below to normalize each numerical feature. We will use [`sklearn.preprocessing.MinMaxScaler`](http://scikit-learn.org/stable/modules/generated/sklearn.preprocessing.MinMaxScaler.html) for this."
   ]
  },
  {
   "cell_type": "code",
   "execution_count": 7,
   "metadata": {},
   "outputs": [
    {
     "data": {
      "text/html": [
       "<div>\n",
       "<style scoped>\n",
       "    .dataframe tbody tr th:only-of-type {\n",
       "        vertical-align: middle;\n",
       "    }\n",
       "\n",
       "    .dataframe tbody tr th {\n",
       "        vertical-align: top;\n",
       "    }\n",
       "\n",
       "    .dataframe thead th {\n",
       "        text-align: right;\n",
       "    }\n",
       "</style>\n",
       "<table border=\"1\" class=\"dataframe\">\n",
       "  <thead>\n",
       "    <tr style=\"text-align: right;\">\n",
       "      <th></th>\n",
       "      <th>age</th>\n",
       "      <th>workclass</th>\n",
       "      <th>education_level</th>\n",
       "      <th>education-num</th>\n",
       "      <th>marital-status</th>\n",
       "      <th>occupation</th>\n",
       "      <th>relationship</th>\n",
       "      <th>race</th>\n",
       "      <th>sex</th>\n",
       "      <th>capital-gain</th>\n",
       "      <th>capital-loss</th>\n",
       "      <th>hours-per-week</th>\n",
       "      <th>native-country</th>\n",
       "    </tr>\n",
       "  </thead>\n",
       "  <tbody>\n",
       "    <tr>\n",
       "      <th>0</th>\n",
       "      <td>0.301370</td>\n",
       "      <td>State-gov</td>\n",
       "      <td>Bachelors</td>\n",
       "      <td>0.800000</td>\n",
       "      <td>Never-married</td>\n",
       "      <td>Adm-clerical</td>\n",
       "      <td>Not-in-family</td>\n",
       "      <td>White</td>\n",
       "      <td>Male</td>\n",
       "      <td>0.667492</td>\n",
       "      <td>0.0</td>\n",
       "      <td>0.397959</td>\n",
       "      <td>United-States</td>\n",
       "    </tr>\n",
       "    <tr>\n",
       "      <th>1</th>\n",
       "      <td>0.452055</td>\n",
       "      <td>Self-emp-not-inc</td>\n",
       "      <td>Bachelors</td>\n",
       "      <td>0.800000</td>\n",
       "      <td>Married-civ-spouse</td>\n",
       "      <td>Exec-managerial</td>\n",
       "      <td>Husband</td>\n",
       "      <td>White</td>\n",
       "      <td>Male</td>\n",
       "      <td>0.000000</td>\n",
       "      <td>0.0</td>\n",
       "      <td>0.122449</td>\n",
       "      <td>United-States</td>\n",
       "    </tr>\n",
       "    <tr>\n",
       "      <th>2</th>\n",
       "      <td>0.287671</td>\n",
       "      <td>Private</td>\n",
       "      <td>HS-grad</td>\n",
       "      <td>0.533333</td>\n",
       "      <td>Divorced</td>\n",
       "      <td>Handlers-cleaners</td>\n",
       "      <td>Not-in-family</td>\n",
       "      <td>White</td>\n",
       "      <td>Male</td>\n",
       "      <td>0.000000</td>\n",
       "      <td>0.0</td>\n",
       "      <td>0.397959</td>\n",
       "      <td>United-States</td>\n",
       "    </tr>\n",
       "    <tr>\n",
       "      <th>3</th>\n",
       "      <td>0.493151</td>\n",
       "      <td>Private</td>\n",
       "      <td>11th</td>\n",
       "      <td>0.400000</td>\n",
       "      <td>Married-civ-spouse</td>\n",
       "      <td>Handlers-cleaners</td>\n",
       "      <td>Husband</td>\n",
       "      <td>Black</td>\n",
       "      <td>Male</td>\n",
       "      <td>0.000000</td>\n",
       "      <td>0.0</td>\n",
       "      <td>0.397959</td>\n",
       "      <td>United-States</td>\n",
       "    </tr>\n",
       "    <tr>\n",
       "      <th>4</th>\n",
       "      <td>0.150685</td>\n",
       "      <td>Private</td>\n",
       "      <td>Bachelors</td>\n",
       "      <td>0.800000</td>\n",
       "      <td>Married-civ-spouse</td>\n",
       "      <td>Prof-specialty</td>\n",
       "      <td>Wife</td>\n",
       "      <td>Black</td>\n",
       "      <td>Female</td>\n",
       "      <td>0.000000</td>\n",
       "      <td>0.0</td>\n",
       "      <td>0.397959</td>\n",
       "      <td>Cuba</td>\n",
       "    </tr>\n",
       "  </tbody>\n",
       "</table>\n",
       "</div>"
      ],
      "text/plain": [
       "        age          workclass education_level  education-num  \\\n",
       "0  0.301370          State-gov       Bachelors       0.800000   \n",
       "1  0.452055   Self-emp-not-inc       Bachelors       0.800000   \n",
       "2  0.287671            Private         HS-grad       0.533333   \n",
       "3  0.493151            Private            11th       0.400000   \n",
       "4  0.150685            Private       Bachelors       0.800000   \n",
       "\n",
       "        marital-status          occupation    relationship    race      sex  \\\n",
       "0        Never-married        Adm-clerical   Not-in-family   White     Male   \n",
       "1   Married-civ-spouse     Exec-managerial         Husband   White     Male   \n",
       "2             Divorced   Handlers-cleaners   Not-in-family   White     Male   \n",
       "3   Married-civ-spouse   Handlers-cleaners         Husband   Black     Male   \n",
       "4   Married-civ-spouse      Prof-specialty            Wife   Black   Female   \n",
       "\n",
       "   capital-gain  capital-loss  hours-per-week  native-country  \n",
       "0      0.667492           0.0        0.397959   United-States  \n",
       "1      0.000000           0.0        0.122449   United-States  \n",
       "2      0.000000           0.0        0.397959   United-States  \n",
       "3      0.000000           0.0        0.397959   United-States  \n",
       "4      0.000000           0.0        0.397959            Cuba  "
      ]
     },
     "metadata": {},
     "output_type": "display_data"
    }
   ],
   "source": [
    "# Import sklearn.preprocessing.StandardScaler\n",
    "from sklearn.preprocessing import MinMaxScaler\n",
    "\n",
    "# Initialize a scaler, then apply it to the features\n",
    "scaler = MinMaxScaler() # default=(0, 1)\n",
    "numerical = ['age', 'education-num', 'capital-gain', 'capital-loss', 'hours-per-week']\n",
    "\n",
    "features_log_minmax_transform = pd.DataFrame(data = features_log_transformed)\n",
    "features_log_minmax_transform[numerical] = scaler.fit_transform(features_log_transformed[numerical])\n",
    "\n",
    "# Show an example of a record with scaling applied\n",
    "display(features_log_minmax_transform.head(n = 5))"
   ]
  },
  {
   "cell_type": "markdown",
   "metadata": {},
   "source": [
    "### Implementation: Data Preprocessing\n",
    "\n",
    "From the table in **Exploring the Data** above, we can see there are several features for each record that are non-numeric. Typically, learning algorithms expect input to be numeric, which requires that non-numeric features (called *categorical variables*) be converted. One popular way to convert categorical variables is by using the **one-hot encoding** scheme. One-hot encoding creates a _\"dummy\"_ variable for each possible category of each non-numeric feature. For example, assume `someFeature` has three possible entries: `A`, `B`, or `C`. We then encode this feature into `someFeature_A`, `someFeature_B` and `someFeature_C`.\n",
    "\n",
    "|   | someFeature |                    | someFeature_A | someFeature_B | someFeature_C |\n",
    "| :-: | :-: |                            | :-: | :-: | :-: |\n",
    "| 0 |  B  |  | 0 | 1 | 0 |\n",
    "| 1 |  C  | ----> one-hot encode ----> | 0 | 0 | 1 |\n",
    "| 2 |  A  |  | 1 | 0 | 0 |\n",
    "\n",
    "Additionally, as with the non-numeric features, we need to convert the non-numeric target label, `'income'` to numerical values for the learning algorithm to work. Since there are only two possible categories for this label (\"<=50K\" and \">50K\"), we can avoid using one-hot encoding and simply encode these two categories as `0` and `1`, respectively. In code cell below, you will need to implement the following:\n",
    " - Use [`pandas.get_dummies()`](http://pandas.pydata.org/pandas-docs/stable/generated/pandas.get_dummies.html?highlight=get_dummies#pandas.get_dummies) to perform one-hot encoding on the `'features_log_minmax_transform'` data.\n",
    " - Convert the target label `'income_raw'` to numerical entries.\n",
    "   - Set records with \"<=50K\" to `0` and records with \">50K\" to `1`."
   ]
  },
  {
   "cell_type": "code",
   "execution_count": 8,
   "metadata": {
    "scrolled": true
   },
   "outputs": [
    {
     "name": "stdout",
     "output_type": "stream",
     "text": [
      "103 total features after one-hot encoding.\n",
      "['age', 'education-num', 'capital-gain', 'capital-loss', 'hours-per-week', 'workclass_ Federal-gov', 'workclass_ Local-gov', 'workclass_ Private', 'workclass_ Self-emp-inc', 'workclass_ Self-emp-not-inc', 'workclass_ State-gov', 'workclass_ Without-pay', 'education_level_ 10th', 'education_level_ 11th', 'education_level_ 12th', 'education_level_ 1st-4th', 'education_level_ 5th-6th', 'education_level_ 7th-8th', 'education_level_ 9th', 'education_level_ Assoc-acdm', 'education_level_ Assoc-voc', 'education_level_ Bachelors', 'education_level_ Doctorate', 'education_level_ HS-grad', 'education_level_ Masters', 'education_level_ Preschool', 'education_level_ Prof-school', 'education_level_ Some-college', 'marital-status_ Divorced', 'marital-status_ Married-AF-spouse', 'marital-status_ Married-civ-spouse', 'marital-status_ Married-spouse-absent', 'marital-status_ Never-married', 'marital-status_ Separated', 'marital-status_ Widowed', 'occupation_ Adm-clerical', 'occupation_ Armed-Forces', 'occupation_ Craft-repair', 'occupation_ Exec-managerial', 'occupation_ Farming-fishing', 'occupation_ Handlers-cleaners', 'occupation_ Machine-op-inspct', 'occupation_ Other-service', 'occupation_ Priv-house-serv', 'occupation_ Prof-specialty', 'occupation_ Protective-serv', 'occupation_ Sales', 'occupation_ Tech-support', 'occupation_ Transport-moving', 'relationship_ Husband', 'relationship_ Not-in-family', 'relationship_ Other-relative', 'relationship_ Own-child', 'relationship_ Unmarried', 'relationship_ Wife', 'race_ Amer-Indian-Eskimo', 'race_ Asian-Pac-Islander', 'race_ Black', 'race_ Other', 'race_ White', 'sex_ Female', 'sex_ Male', 'native-country_ Cambodia', 'native-country_ Canada', 'native-country_ China', 'native-country_ Columbia', 'native-country_ Cuba', 'native-country_ Dominican-Republic', 'native-country_ Ecuador', 'native-country_ El-Salvador', 'native-country_ England', 'native-country_ France', 'native-country_ Germany', 'native-country_ Greece', 'native-country_ Guatemala', 'native-country_ Haiti', 'native-country_ Holand-Netherlands', 'native-country_ Honduras', 'native-country_ Hong', 'native-country_ Hungary', 'native-country_ India', 'native-country_ Iran', 'native-country_ Ireland', 'native-country_ Italy', 'native-country_ Jamaica', 'native-country_ Japan', 'native-country_ Laos', 'native-country_ Mexico', 'native-country_ Nicaragua', 'native-country_ Outlying-US(Guam-USVI-etc)', 'native-country_ Peru', 'native-country_ Philippines', 'native-country_ Poland', 'native-country_ Portugal', 'native-country_ Puerto-Rico', 'native-country_ Scotland', 'native-country_ South', 'native-country_ Taiwan', 'native-country_ Thailand', 'native-country_ Trinadad&Tobago', 'native-country_ United-States', 'native-country_ Vietnam', 'native-country_ Yugoslavia']\n"
     ]
    }
   ],
   "source": [
    "# TODO: One-hot encode the 'features_log_minmax_transform' data using pandas.get_dummies()\n",
    "features_final = pd.get_dummies(features_log_minmax_transform)\n",
    "\n",
    "# TODO: Encode the 'income_raw' data to numerical values\n",
    "income = income_raw.replace({'<=50K':0, '>50K':1})\n",
    "\n",
    "# Print the number of features after one-hot encoding\n",
    "encoded = list(features_final.columns)\n",
    "print(\"{} total features after one-hot encoding.\".format(len(encoded)))\n",
    "\n",
    "# Uncomment the following line to see the encoded feature names\n",
    "print(encoded)"
   ]
  },
  {
   "cell_type": "markdown",
   "metadata": {},
   "source": [
    "### Shuffle and Split Data\n",
    "Now all _categorical variables_ have been converted into numerical features, and all numerical features have been normalized. As always, we will now split the data (both features and their labels) into training and test sets. 80% of the data will be used for training and 20% for testing.\n",
    "\n",
    "Run the code cell below to perform this split."
   ]
  },
  {
   "cell_type": "code",
   "execution_count": 9,
   "metadata": {},
   "outputs": [
    {
     "name": "stdout",
     "output_type": "stream",
     "text": [
      "Training set has 36177 samples.\n",
      "Testing set has 9045 samples.\n"
     ]
    },
    {
     "name": "stderr",
     "output_type": "stream",
     "text": [
      "/opt/conda/lib/python3.6/site-packages/sklearn/cross_validation.py:41: DeprecationWarning: This module was deprecated in version 0.18 in favor of the model_selection module into which all the refactored classes and functions are moved. Also note that the interface of the new CV iterators are different from that of this module. This module will be removed in 0.20.\n",
      "  \"This module will be removed in 0.20.\", DeprecationWarning)\n"
     ]
    }
   ],
   "source": [
    "# Import train_test_split\n",
    "from sklearn.cross_validation import train_test_split\n",
    "\n",
    "# Split the 'features' and 'income' data into training and testing sets\n",
    "X_train, X_test, y_train, y_test = train_test_split(features_final,income,test_size = 0.2, random_state = 0)\n",
    "\n",
    "# Show the results of the split\n",
    "print(\"Training set has {} samples.\".format(X_train.shape[0]))\n",
    "print(\"Testing set has {} samples.\".format(X_test.shape[0]))"
   ]
  },
  {
   "cell_type": "markdown",
   "metadata": {},
   "source": [
    "*Note: this Workspace is running on `sklearn` v0.19. If you use the newer version (>=\"0.20\"), the `sklearn.cross_validation` has been replaced with `sklearn.model_selection`.*"
   ]
  },
  {
   "cell_type": "markdown",
   "metadata": {},
   "source": [
    "----\n",
    "## Evaluating Model Performance\n",
    "In this section, we will investigate four different algorithms, and determine which is best at modeling the data. Three of these algorithms will be supervised learners of your choice, and the fourth algorithm is known as a *naive predictor*."
   ]
  },
  {
   "cell_type": "markdown",
   "metadata": {},
   "source": [
    "### Metrics and the Naive Predictor\n",
    "*CharityML*, equipped with their research, knows individuals that make more than \\$50,000 are most likely to donate to their charity. Because of this, *CharityML* is particularly interested in predicting who makes more than \\$50,000 accurately. It would seem that using **accuracy** as a metric for evaluating a particular model's performace would be appropriate. Additionally, identifying someone that *does not* make more than \\$50,000 as someone who does would be detrimental to *CharityML*, since they are looking to find individuals willing to donate. Therefore, a model's ability to precisely predict those that make more than \\$50,000 is *more important* than the model's ability to **recall** those individuals. We can use **F-beta score** as a metric that considers both precision and recall:\n",
    "\n",
    "$$ F_{\\beta} = (1 + \\beta^2) \\cdot \\frac{precision \\cdot recall}{\\left( \\beta^2 \\cdot precision \\right) + recall} $$\n",
    "\n",
    "In particular, when $\\beta = 0.5$, more emphasis is placed on precision. This is called the **F$_{0.5}$ score** (or F-score for simplicity).\n",
    "\n",
    "Looking at the distribution of classes (those who make at most \\$50,000, and those who make more), it's clear most individuals do not make more than \\$50,000. This can greatly affect **accuracy**, since we could simply say *\"this person does not make more than \\$50,000\"* and generally be right, without ever looking at the data! Making such a statement would be called **naive**, since we have not considered any information to substantiate the claim. It is always important to consider the *naive prediction* for your data, to help establish a benchmark for whether a model is performing well. That been said, using that prediction would be pointless: If we predicted all people made less than \\$50,000, *CharityML* would identify no one as donors. \n",
    "\n",
    "\n",
    "#### Note: Recap of accuracy, precision, recall\n",
    "\n",
    "** Accuracy ** measures how often the classifier makes the correct prediction. It’s the ratio of the number of correct predictions to the total number of predictions (the number of test data points).\n",
    "\n",
    "** Precision ** tells us what proportion of messages we classified as spam, actually were spam.\n",
    "It is a ratio of true positives(words classified as spam, and which are actually spam) to all positives(all words classified as spam, irrespective of whether that was the correct classificatio), in other words it is the ratio of\n",
    "\n",
    "`[True Positives/(True Positives + False Positives)]`\n",
    "\n",
    "** Recall(sensitivity)** tells us what proportion of messages that actually were spam were classified by us as spam.\n",
    "It is a ratio of true positives(words classified as spam, and which are actually spam) to all the words that were actually spam, in other words it is the ratio of\n",
    "\n",
    "`[True Positives/(True Positives + False Negatives)]`\n",
    "\n",
    "For classification problems that are skewed in their classification distributions like in our case, for example if we had a 100 text messages and only 2 were spam and the rest 98 weren't, accuracy by itself is not a very good metric. We could classify 90 messages as not spam(including the 2 that were spam but we classify them as not spam, hence they would be false negatives) and 10 as spam(all 10 false positives) and still get a reasonably good accuracy score. For such cases, precision and recall come in very handy. These two metrics can be combined to get the F1 score, which is weighted average(harmonic mean) of the precision and recall scores. This score can range from 0 to 1, with 1 being the best possible F1 score(we take the harmonic mean as we are dealing with ratios)."
   ]
  },
  {
   "cell_type": "markdown",
   "metadata": {},
   "source": [
    "### Question 1 - Naive Predictor Performace\n",
    "* If we chose a model that always predicted an individual made more than $50,000, what would  that model's accuracy and F-score be on this dataset? You must use the code cell below and assign your results to `'accuracy'` and `'fscore'` to be used later.\n",
    "\n",
    "** Please note ** that the the purpose of generating a naive predictor is simply to show what a base model without any intelligence would look like. In the real world, ideally your base model would be either the results of a previous model or could be based on a research paper upon which you are looking to improve. When there is no benchmark model set, getting a result better than random choice is a place you could start from.\n",
    "\n",
    "** HINT: ** \n",
    "\n",
    "* When we have a model that always predicts '1' (i.e. the individual makes more than 50k) then our model will have no True Negatives(TN) or False Negatives(FN) as we are not making any negative('0' value) predictions. Therefore our Accuracy in this case becomes the same as our Precision(True Positives/(True Positives + False Positives)) as every prediction that we have made with value '1' that should have '0' becomes a False Positive; therefore our denominator in this case is the total number of records we have in total. \n",
    "* Our Recall score(True Positives/(True Positives + False Negatives)) in this setting becomes 1 as we have no False Negatives."
   ]
  },
  {
   "cell_type": "code",
   "execution_count": 10,
   "metadata": {},
   "outputs": [
    {
     "name": "stdout",
     "output_type": "stream",
     "text": [
      "Naive Predictor: [Accuracy score: 0.2478, F-score: 0.2917]\n"
     ]
    }
   ],
   "source": [
    "'''\n",
    "TP = np.sum(income) # Counting the ones as this is the naive case. Note that 'income' is the 'income_raw' data \n",
    "encoded to numerical values done in the data preprocessing step.\n",
    "FP = income.count() - TP # Specific to the naive case\n",
    "\n",
    "TN = 0 # No predicted negatives in the naive case\n",
    "FN = 0 # No predicted negatives in the naive case\n",
    "'''\n",
    "# TODO: Calculate accuracy, precision and recall\n",
    "accuracy = n_greater_50k / n_records\n",
    "recall = n_greater_50k / (n_greater_50k + 0)\n",
    "precision = n_greater_50k / (n_greater_50k + n_at_most_50k)\n",
    "beta=0.5\n",
    "# TODO: Calculate F-score using the formula above for beta = 0.5 and correct values for precision and recall.\n",
    "fscore =  (1  + (beta*beta)) * ( precision * recall / (( beta*beta * (precision))+ recall))\n",
    "\n",
    "# Print the results \n",
    "print(\"Naive Predictor: [Accuracy score: {:.4f}, F-score: {:.4f}]\".format(accuracy, fscore))"
   ]
  },
  {
   "cell_type": "markdown",
   "metadata": {},
   "source": [
    "###  Supervised Learning Models\n",
    "**The following are some of the supervised learning models that are currently available in** [`scikit-learn`](http://scikit-learn.org/stable/supervised_learning.html) **that you may choose from:**\n",
    "- Gaussian Naive Bayes (GaussianNB)\n",
    "- Decision Trees\n",
    "- Ensemble Methods (Bagging, AdaBoost, Random Forest, Gradient Boosting)\n",
    "- K-Nearest Neighbors (KNeighbors)\n",
    "- Stochastic Gradient Descent Classifier (SGDC)\n",
    "- Support Vector Machines (SVM)\n",
    "- Logistic Regression"
   ]
  },
  {
   "cell_type": "markdown",
   "metadata": {},
   "source": [
    "### Question 2 - Model Application\n",
    "List three of the supervised learning models above that are appropriate for this problem that you will test on the census data. For each model chosen\n",
    "\n",
    "- Describe one real-world application in industry where the model can be applied. \n",
    "- What are the strengths of the model; when does it perform well?\n",
    "- What are the weaknesses of the model; when does it perform poorly?\n",
    "- What makes this model a good candidate for the problem, given what you know about the data?\n",
    "\n",
    "** HINT: **\n",
    "\n",
    "Structure your answer in the same format as above^, with 4 parts for each of the three models you pick. Please include references with your answer."
   ]
  },
  {
   "cell_type": "markdown",
   "metadata": {},
   "source": [
    "**Answer: **\n",
    "1 -Real world application: Example of a real world use of SVMs include image classification and image segmentation. For example: Face detection in an image. Reference\n",
    "Strenghs:\n",
    "Effective in high dimensional spaces, or when there are a lot of features.\n",
    "Kernel functions can be used to adapt to different cases, and can be completely customized if needed. Thus SVMs are versatile.\n",
    "Weaknesses:\n",
    "Doesn’t perform well with large datasets.\n",
    "Doesn’t directly provide probability estimates.\n",
    "Candidacy: SVMs were chosen because of their effectiveness given high dimensionality. After incorporating dummy variables, we have more than 100 features in our dataset, so SVMs should be a classifier that works regardless of that. Also, our dataset is not that large to be a deterrent.\n",
    "\n",
    "\n",
    "2 -Random Forest:Random forests are an ensemble learning method for classification, regression and other tasks. Real World Application-Click Stream Analysis : Predicting whether an user will make purchase/not based on his click history. Strength-1.Avoid overfitting problem which is there in decision trees.\n",
    "2.Faster to train supports parallel run. Weakness-1.Usually less accurate than Boosting/GBM on wide range of tasks, and usually slower in the runtime. What makes this model a good candidate for thr problem(given that we know about the data)-Random Forest works well with a mixture of numerical and categorical features. When features are on the various scales, it is also fine.\n",
    "\n",
    "\n",
    "3-Gradient boosting [1] in incredibly effective as regression, classification, and ranking model. One of its popular implementations XGBoost [3] is used in many winning Kaggle solutions. The commercial web search engines Yahoo and Yandex use variants of gradient boosting in their machine-learned ranking engines.\n",
    "It trains the dataset by concentrating on the harder to classify points - the points which had been classified incorrectly in the previous iteration. It works well with interactions between features.[4]\n",
    "Is prone to over-fitting and requires careful tuning of different hyper-parameters. Takes pretty long to train since it builds the trees sequentially. [4]\n",
    "By focusing on the harder to classify points, it can deal well with imbalanced data"
   ]
  },
  {
   "cell_type": "markdown",
   "metadata": {},
   "source": [
    "### Implementation - Creating a Training and Predicting Pipeline\n",
    "To properly evaluate the performance of each model you've chosen, it's important that you create a training and predicting pipeline that allows you to quickly and effectively train models using various sizes of training data and perform predictions on the testing data. Your implementation here will be used in the following section.\n",
    "In the code block below, you will need to implement the following:\n",
    " - Import `fbeta_score` and `accuracy_score` from [`sklearn.metrics`](http://scikit-learn.org/stable/modules/classes.html#sklearn-metrics-metrics).\n",
    " - Fit the learner to the sampled training data and record the training time.\n",
    " - Perform predictions on the test data `X_test`, and also on the first 300 training points `X_train[:300]`.\n",
    "   - Record the total prediction time.\n",
    " - Calculate the accuracy score for both the training subset and testing set.\n",
    " - Calculate the F-score for both the training subset and testing set.\n",
    "   - Make sure that you set the `beta` parameter!"
   ]
  },
  {
   "cell_type": "code",
   "execution_count": 11,
   "metadata": {},
   "outputs": [],
   "source": [
    "# TODO: Import two metrics from sklearn - fbeta_score and accuracy_score\n",
    "from sklearn.metrics import fbeta_score, accuracy_score\n",
    "\n",
    "def train_predict(learner, sample_size, X_train, y_train, X_test, y_test): \n",
    "    '''\n",
    "    inputs:\n",
    "       - learner: the learning algorithm to be trained and predicted on\n",
    "       - sample_size: the size of samples (number) to be drawn from training set\n",
    "       - X_train: features training set\n",
    "       - y_train: income training set\n",
    "       - X_test: features testing set\n",
    "       - y_test: income testing set\n",
    "    '''\n",
    "    \n",
    "    results = {}\n",
    "    \n",
    "    # TODO: Fit the learner to the training data using slicing with 'sample_size' using .fit(training_features[:], training_labels[:])\n",
    "    start = time() # Get start time\n",
    "    learner = learner.fit(X_train[:sample_size], y_train[:sample_size])\n",
    "    end = time() # Get end time\n",
    "    \n",
    "    # TODO: Calculate the training time\n",
    "    results['train_time'] = end - start\n",
    "        \n",
    "    # TODO: Get the predictions on the test set(X_test),\n",
    "    #       then get predictions on the first 300 training samples(X_train) using .predict()\n",
    "    start = time() # Get start time\n",
    "    predictions_test = learner.predict(X_test)\n",
    "    predictions_train = learner.predict(X_train[:300])\n",
    "    end = time() # Get end time\n",
    "    \n",
    "    # TODO: Calculate the total prediction time\n",
    "    results['pred_time'] = end - start\n",
    "            \n",
    "    # TODO: Compute accuracy on the first 300 training samples which is y_train[:300]\n",
    "    results['acc_train'] = accuracy_score(y_train[:300], predictions_train)\n",
    "        \n",
    "    # TODO: Compute accuracy on test set using accuracy_score()\n",
    "    results['acc_test'] = accuracy_score(y_test, predictions_test)\n",
    "    \n",
    "    # TODO: Compute F-score on the the first 300 training samples using fbeta_score()\n",
    "    results['f_train'] = fbeta_score(y_train[:300], predictions_train, beta = 0.5)\n",
    "        \n",
    "    # TODO: Compute F-score on the test set which is y_test\n",
    "    results['f_test'] = fbeta_score(y_test, predictions_test, beta = 0.5)\n",
    "       \n",
    "    # Success\n",
    "    print(f\"{learner.__class__.__name__} trained on {sample_size} samples.\")\n",
    "        \n",
    "    # Return the results\n",
    "    return results"
   ]
  },
  {
   "cell_type": "markdown",
   "metadata": {},
   "source": [
    "### Implementation: Initial Model Evaluation\n",
    "In the code cell, you will need to implement the following:\n",
    "- Import the three supervised learning models you've discussed in the previous section.\n",
    "- Initialize the three models and store them in `'clf_A'`, `'clf_B'`, and `'clf_C'`.\n",
    "  - Use a `'random_state'` for each model you use, if provided.\n",
    "  - **Note:** Use the default settings for each model — you will tune one specific model in a later section.\n",
    "- Calculate the number of records equal to 1%, 10%, and 100% of the training data.\n",
    "  - Store those values in `'samples_1'`, `'samples_10'`, and `'samples_100'` respectively.\n",
    "\n",
    "**Note:** Depending on which algorithms you chose, the following implementation may take some time to run!"
   ]
  },
  {
   "cell_type": "code",
   "execution_count": 12,
   "metadata": {},
   "outputs": [
    {
     "name": "stderr",
     "output_type": "stream",
     "text": [
      "/opt/conda/lib/python3.6/site-packages/sklearn/metrics/classification.py:1135: UndefinedMetricWarning: F-score is ill-defined and being set to 0.0 due to no predicted samples.\n",
      "  'precision', 'predicted', average, warn_for)\n"
     ]
    },
    {
     "name": "stdout",
     "output_type": "stream",
     "text": [
      "SVC trained on 361 samples.\n",
      "SVC trained on 3617 samples.\n",
      "SVC trained on 36177 samples.\n",
      "RandomForestClassifier trained on 361 samples.\n",
      "RandomForestClassifier trained on 3617 samples.\n",
      "RandomForestClassifier trained on 36177 samples.\n",
      "GradientBoostingClassifier trained on 361 samples.\n",
      "GradientBoostingClassifier trained on 3617 samples.\n",
      "GradientBoostingClassifier trained on 36177 samples.\n"
     ]
    },
    {
     "data": {
      "image/png": "[encoded data removed]",
      "text/plain": [
       "<matplotlib.figure.Figure at 0x7ff896fdcb38>"
      ]
     },
     "metadata": {
      "needs_background": "light"
     },
     "output_type": "display_data"
    }
   ],
   "source": [
    "# TODO: Import the three supervised learning models from sklearn\n",
    "from sklearn.svm import SVC\n",
    "from sklearn.ensemble import RandomForestClassifier\n",
    "from sklearn.ensemble import GradientBoostingClassifier\n",
    "\n",
    "# TODO: Initialize the three models\n",
    "clf_A = SVC(random_state = 100)\n",
    "clf_B = RandomForestClassifier(random_state=10)\n",
    "clf_C = GradientBoostingClassifier(random_state = 100)\n",
    "\n",
    "# TODO: Calculate the number of samples for 1%, 10%, and 100% of the training data\n",
    "# HINT: samples_100 is the entire training set i.e. len(y_train)\n",
    "# HINT: samples_10 is 10% of samples_100 (ensure to set the count of the values to be `int` and not `float`)\n",
    "# HINT: samples_1 is 1% of samples_100 (ensure to set the count of the values to be `int` and not `float`)\n",
    "samples_100 = len(y_train)\n",
    "samples_10 = int(0.1 * samples_100)\n",
    "samples_1 = int(0.01 * samples_100)\n",
    "\n",
    "# Collect results on the learners\n",
    "results = {}\n",
    "for clf in [clf_A, clf_B, clf_C]:\n",
    "    clf_name = clf.__class__.__name__\n",
    "    results[clf_name] = {}\n",
    "    for i, samples in enumerate([samples_1, samples_10, samples_100]):\n",
    "        results[clf_name][i] = \\\n",
    "        train_predict(clf, samples, X_train, y_train, X_test, y_test)\n",
    "\n",
    "# Run metrics visualization for the three supervised learning models chosen\n",
    "vs.evaluate(results, accuracy, fscore)"
   ]
  },
  {
   "cell_type": "markdown",
   "metadata": {},
   "source": [
    "----\n",
    "## Improving Results\n",
    "In this final section, you will choose from the three supervised learning models the *best* model to use on the student data. You will then perform a grid search optimization for the model over the entire training set (`X_train` and `y_train`) by tuning at least one parameter to improve upon the untuned model's F-score. "
   ]
  },
  {
   "cell_type": "markdown",
   "metadata": {},
   "source": [
    "### Question 3 - Choosing the Best Model\n",
    "\n",
    "* Based on the evaluation you performed earlier, in one to two paragraphs, explain to *CharityML* which of the three models you believe to be most appropriate for the task of identifying individuals that make more than \\$50,000. \n",
    "\n",
    "** HINT: ** \n",
    "Look at the graph at the bottom left from the cell above(the visualization created by `vs.evaluate(results, accuracy, fscore)`) and check the F score for the testing set when 100% of the training set is used. Which model has the highest score? Your answer should include discussion of the:\n",
    "* metrics - F score on the testing when 100% of the training data is used, \n",
    "* prediction/training time\n",
    "* the algorithm's suitability for the data."
   ]
  },
  {
   "cell_type": "markdown",
   "metadata": {},
   "source": [
    "**Answer: **\n",
    "\n",
    "All characters can handle the balanced data from the US Census data set. RandomForestClassifier and SVC by assigning a high cost to classify images, and report a layout has been there every time. So, the first iteration gave you 80% accuracy, the second iteration on the 20%.\n",
    "\n",
    "By looking the at the graphs above GradientBoostingClassifier is the best of all three:\n",
    "\n",
    ".Best testing F-score\n",
    ".Low training time and fastest prediction time\n"
   ]
  },
  {
   "cell_type": "markdown",
   "metadata": {},
   "source": [
    "### Question 4 - Describing the Model in Layman's Terms\n",
    "\n",
    "* In one to two paragraphs, explain to *CharityML*, in layman's terms, how the final model chosen is supposed to work. Be sure that you are describing the major qualities of the model, such as how the model is trained and how the model makes a prediction. Avoid using advanced mathematical jargon, such as describing equations.\n",
    "\n",
    "** HINT: **\n",
    "\n",
    "When explaining your model, if using external resources please include all citations."
   ]
  },
  {
   "cell_type": "markdown",
   "metadata": {},
   "source": [
    "**Answer: ** \n",
    "\n",
    "In machine learning, models can be fitted to the data individually, or they can be combined. The combination of simple individual forms that together create a new, better form is called a group.\n",
    "\n",
    "One way to create an ensemble is Boosting, which starts by fitting a prototype to the data, then builds a new model that attempts to correct the shortcomings of the built-in booster ensemble for all previous models. The enhancement process is repeated many times but not too often because the final model does not generalize well to the new data.\n",
    "\n",
    "CharityML's specific model, gradient boosting, is a type of boost. The algorithm is based on the intuition that the next best possible model, when combined with previous models, reduces the overall prediction error. The basic idea is to define the target outcomes for this next model to reduce the error. It creates a learner to fix any mistakes made by the previous learner, and does so in a gradual, incremental and sequential manner."
   ]
  },
  {
   "cell_type": "markdown",
   "metadata": {},
   "source": [
    "### Implementation: Model Tuning\n",
    "Fine tune the chosen model. Use grid search (`GridSearchCV`) with at least one important parameter tuned with at least 3 different values. You will need to use the entire training set for this. In the code cell below, you will need to implement the following:\n",
    "- Import [`sklearn.grid_search.GridSearchCV`](http://scikit-learn.org/0.17/modules/generated/sklearn.grid_search.GridSearchCV.html) and [`sklearn.metrics.make_scorer`](http://scikit-learn.org/stable/modules/generated/sklearn.metrics.make_scorer.html).\n",
    "- Initialize the classifier you've chosen and store it in `clf`.\n",
    " - Set a `random_state` if one is available to the same state you set before.\n",
    "- Create a dictionary of parameters you wish to tune for the chosen model.\n",
    " - Example: `parameters = {'parameter' : [list of values]}`.\n",
    " - **Note:** Avoid tuning the `max_features` parameter of your learner if that parameter is available!\n",
    "- Use `make_scorer` to create an `fbeta_score` scoring object (with $\\beta = 0.5$).\n",
    "- Perform grid search on the classifier `clf` using the `'scorer'`, and store it in `grid_obj`.\n",
    "- Fit the grid search object to the training data (`X_train`, `y_train`), and store it in `grid_fit`.\n",
    "\n",
    "**Note:** Depending on the algorithm chosen and the parameter list, the following implementation may take some time to run!"
   ]
  },
  {
   "cell_type": "code",
   "execution_count": 13,
   "metadata": {},
   "outputs": [
    {
     "name": "stdout",
     "output_type": "stream",
     "text": [
      "Fitting 3 folds for each of 27 candidates, totalling 81 fits\n",
      "[CV] learning_rate=0.01, max_depth=4, min_samples_leaf=15, min_samples_split=5, n_estimators=50, subsample=0.8 \n",
      "[CV]  learning_rate=0.01, max_depth=4, min_samples_leaf=15, min_samples_split=5, n_estimators=50, subsample=0.8, total=   6.7s\n",
      "[CV] learning_rate=0.01, max_depth=4, min_samples_leaf=15, min_samples_split=5, n_estimators=50, subsample=0.8 \n"
     ]
    },
    {
     "name": "stderr",
     "output_type": "stream",
     "text": [
      "[Parallel(n_jobs=-1)]: Done   1 out of   1 | elapsed:    6.8s remaining:    0.0s\n"
     ]
    },
    {
     "name": "stdout",
     "output_type": "stream",
     "text": [
      "[CV]  learning_rate=0.01, max_depth=4, min_samples_leaf=15, min_samples_split=5, n_estimators=50, subsample=0.8, total=   6.8s\n",
      "[CV] learning_rate=0.01, max_depth=4, min_samples_leaf=15, min_samples_split=5, n_estimators=50, subsample=0.8 \n",
      "[CV]  learning_rate=0.01, max_depth=4, min_samples_leaf=15, min_samples_split=5, n_estimators=50, subsample=0.8, total=   6.7s\n",
      "[CV] learning_rate=0.01, max_depth=4, min_samples_leaf=15, min_samples_split=5, n_estimators=50, subsample=0.85 \n",
      "[CV]  learning_rate=0.01, max_depth=4, min_samples_leaf=15, min_samples_split=5, n_estimators=50, subsample=0.85, total=   6.8s\n",
      "[CV] learning_rate=0.01, max_depth=4, min_samples_leaf=15, min_samples_split=5, n_estimators=50, subsample=0.85 \n",
      "[CV]  learning_rate=0.01, max_depth=4, min_samples_leaf=15, min_samples_split=5, n_estimators=50, subsample=0.85, total=   6.9s\n",
      "[CV] learning_rate=0.01, max_depth=4, min_samples_leaf=15, min_samples_split=5, n_estimators=50, subsample=0.85 \n",
      "[CV]  learning_rate=0.01, max_depth=4, min_samples_leaf=15, min_samples_split=5, n_estimators=50, subsample=0.85, total=   6.8s\n",
      "[CV] learning_rate=0.01, max_depth=4, min_samples_leaf=15, min_samples_split=5, n_estimators=50, subsample=0.9 \n",
      "[CV]  learning_rate=0.01, max_depth=4, min_samples_leaf=15, min_samples_split=5, n_estimators=50, subsample=0.9, total=   6.9s\n",
      "[CV] learning_rate=0.01, max_depth=4, min_samples_leaf=15, min_samples_split=5, n_estimators=50, subsample=0.9 \n",
      "[CV]  learning_rate=0.01, max_depth=4, min_samples_leaf=15, min_samples_split=5, n_estimators=50, subsample=0.9, total=   7.1s\n",
      "[CV] learning_rate=0.01, max_depth=4, min_samples_leaf=15, min_samples_split=5, n_estimators=50, subsample=0.9 \n",
      "[CV]  learning_rate=0.01, max_depth=4, min_samples_leaf=15, min_samples_split=5, n_estimators=50, subsample=0.9, total=   6.9s\n",
      "[CV] learning_rate=0.01, max_depth=4, min_samples_leaf=15, min_samples_split=5, n_estimators=100, subsample=0.8 \n",
      "[CV]  learning_rate=0.01, max_depth=4, min_samples_leaf=15, min_samples_split=5, n_estimators=100, subsample=0.8, total=  13.3s\n",
      "[CV] learning_rate=0.01, max_depth=4, min_samples_leaf=15, min_samples_split=5, n_estimators=100, subsample=0.8 \n",
      "[CV]  learning_rate=0.01, max_depth=4, min_samples_leaf=15, min_samples_split=5, n_estimators=100, subsample=0.8, total=  13.2s\n",
      "[CV] learning_rate=0.01, max_depth=4, min_samples_leaf=15, min_samples_split=5, n_estimators=100, subsample=0.8 \n",
      "[CV]  learning_rate=0.01, max_depth=4, min_samples_leaf=15, min_samples_split=5, n_estimators=100, subsample=0.8, total=  13.3s\n",
      "[CV] learning_rate=0.01, max_depth=4, min_samples_leaf=15, min_samples_split=5, n_estimators=100, subsample=0.85 \n",
      "[CV]  learning_rate=0.01, max_depth=4, min_samples_leaf=15, min_samples_split=5, n_estimators=100, subsample=0.85, total=  13.6s\n",
      "[CV] learning_rate=0.01, max_depth=4, min_samples_leaf=15, min_samples_split=5, n_estimators=100, subsample=0.85 \n",
      "[CV]  learning_rate=0.01, max_depth=4, min_samples_leaf=15, min_samples_split=5, n_estimators=100, subsample=0.85, total=  13.6s\n",
      "[CV] learning_rate=0.01, max_depth=4, min_samples_leaf=15, min_samples_split=5, n_estimators=100, subsample=0.85 \n",
      "[CV]  learning_rate=0.01, max_depth=4, min_samples_leaf=15, min_samples_split=5, n_estimators=100, subsample=0.85, total=  13.5s\n",
      "[CV] learning_rate=0.01, max_depth=4, min_samples_leaf=15, min_samples_split=5, n_estimators=100, subsample=0.9 \n",
      "[CV]  learning_rate=0.01, max_depth=4, min_samples_leaf=15, min_samples_split=5, n_estimators=100, subsample=0.9, total=  13.8s\n",
      "[CV] learning_rate=0.01, max_depth=4, min_samples_leaf=15, min_samples_split=5, n_estimators=100, subsample=0.9 \n",
      "[CV]  learning_rate=0.01, max_depth=4, min_samples_leaf=15, min_samples_split=5, n_estimators=100, subsample=0.9, total=  13.9s\n",
      "[CV] learning_rate=0.01, max_depth=4, min_samples_leaf=15, min_samples_split=5, n_estimators=100, subsample=0.9 \n",
      "[CV]  learning_rate=0.01, max_depth=4, min_samples_leaf=15, min_samples_split=5, n_estimators=100, subsample=0.9, total=  13.8s\n",
      "[CV] learning_rate=0.01, max_depth=4, min_samples_leaf=15, min_samples_split=5, n_estimators=200, subsample=0.8 \n",
      "[CV]  learning_rate=0.01, max_depth=4, min_samples_leaf=15, min_samples_split=5, n_estimators=200, subsample=0.8, total=  26.4s\n",
      "[CV] learning_rate=0.01, max_depth=4, min_samples_leaf=15, min_samples_split=5, n_estimators=200, subsample=0.8 \n",
      "[CV]  learning_rate=0.01, max_depth=4, min_samples_leaf=15, min_samples_split=5, n_estimators=200, subsample=0.8, total=  26.4s\n",
      "[CV] learning_rate=0.01, max_depth=4, min_samples_leaf=15, min_samples_split=5, n_estimators=200, subsample=0.8 \n",
      "[CV]  learning_rate=0.01, max_depth=4, min_samples_leaf=15, min_samples_split=5, n_estimators=200, subsample=0.8, total=  26.5s\n",
      "[CV] learning_rate=0.01, max_depth=4, min_samples_leaf=15, min_samples_split=5, n_estimators=200, subsample=0.85 \n",
      "[CV]  learning_rate=0.01, max_depth=4, min_samples_leaf=15, min_samples_split=5, n_estimators=200, subsample=0.85, total=  27.0s\n",
      "[CV] learning_rate=0.01, max_depth=4, min_samples_leaf=15, min_samples_split=5, n_estimators=200, subsample=0.85 \n",
      "[CV]  learning_rate=0.01, max_depth=4, min_samples_leaf=15, min_samples_split=5, n_estimators=200, subsample=0.85, total=  27.6s\n",
      "[CV] learning_rate=0.01, max_depth=4, min_samples_leaf=15, min_samples_split=5, n_estimators=200, subsample=0.85 \n",
      "[CV]  learning_rate=0.01, max_depth=4, min_samples_leaf=15, min_samples_split=5, n_estimators=200, subsample=0.85, total=  27.4s\n",
      "[CV] learning_rate=0.01, max_depth=4, min_samples_leaf=15, min_samples_split=5, n_estimators=200, subsample=0.9 \n",
      "[CV]  learning_rate=0.01, max_depth=4, min_samples_leaf=15, min_samples_split=5, n_estimators=200, subsample=0.9, total=  27.4s\n",
      "[CV] learning_rate=0.01, max_depth=4, min_samples_leaf=15, min_samples_split=5, n_estimators=200, subsample=0.9 \n",
      "[CV]  learning_rate=0.01, max_depth=4, min_samples_leaf=15, min_samples_split=5, n_estimators=200, subsample=0.9, total=  27.8s\n",
      "[CV] learning_rate=0.01, max_depth=4, min_samples_leaf=15, min_samples_split=5, n_estimators=200, subsample=0.9 \n",
      "[CV]  learning_rate=0.01, max_depth=4, min_samples_leaf=15, min_samples_split=5, n_estimators=200, subsample=0.9, total=  28.0s\n",
      "[CV] learning_rate=0.05, max_depth=4, min_samples_leaf=15, min_samples_split=5, n_estimators=50, subsample=0.8 \n",
      "[CV]  learning_rate=0.05, max_depth=4, min_samples_leaf=15, min_samples_split=5, n_estimators=50, subsample=0.8, total=   6.7s\n",
      "[CV] learning_rate=0.05, max_depth=4, min_samples_leaf=15, min_samples_split=5, n_estimators=50, subsample=0.8 \n",
      "[CV]  learning_rate=0.05, max_depth=4, min_samples_leaf=15, min_samples_split=5, n_estimators=50, subsample=0.8, total=   6.9s\n",
      "[CV] learning_rate=0.05, max_depth=4, min_samples_leaf=15, min_samples_split=5, n_estimators=50, subsample=0.8 \n",
      "[CV]  learning_rate=0.05, max_depth=4, min_samples_leaf=15, min_samples_split=5, n_estimators=50, subsample=0.8, total=   6.9s\n",
      "[CV] learning_rate=0.05, max_depth=4, min_samples_leaf=15, min_samples_split=5, n_estimators=50, subsample=0.85 \n",
      "[CV]  learning_rate=0.05, max_depth=4, min_samples_leaf=15, min_samples_split=5, n_estimators=50, subsample=0.85, total=   7.1s\n",
      "[CV] learning_rate=0.05, max_depth=4, min_samples_leaf=15, min_samples_split=5, n_estimators=50, subsample=0.85 \n",
      "[CV]  learning_rate=0.05, max_depth=4, min_samples_leaf=15, min_samples_split=5, n_estimators=50, subsample=0.85, total=   6.9s\n",
      "[CV] learning_rate=0.05, max_depth=4, min_samples_leaf=15, min_samples_split=5, n_estimators=50, subsample=0.85 \n",
      "[CV]  learning_rate=0.05, max_depth=4, min_samples_leaf=15, min_samples_split=5, n_estimators=50, subsample=0.85, total=   7.1s\n",
      "[CV] learning_rate=0.05, max_depth=4, min_samples_leaf=15, min_samples_split=5, n_estimators=50, subsample=0.9 \n",
      "[CV]  learning_rate=0.05, max_depth=4, min_samples_leaf=15, min_samples_split=5, n_estimators=50, subsample=0.9, total=   7.2s\n",
      "[CV] learning_rate=0.05, max_depth=4, min_samples_leaf=15, min_samples_split=5, n_estimators=50, subsample=0.9 \n",
      "[CV]  learning_rate=0.05, max_depth=4, min_samples_leaf=15, min_samples_split=5, n_estimators=50, subsample=0.9, total=   7.1s\n",
      "[CV] learning_rate=0.05, max_depth=4, min_samples_leaf=15, min_samples_split=5, n_estimators=50, subsample=0.9 \n",
      "[CV]  learning_rate=0.05, max_depth=4, min_samples_leaf=15, min_samples_split=5, n_estimators=50, subsample=0.9, total=   7.3s\n",
      "[CV] learning_rate=0.05, max_depth=4, min_samples_leaf=15, min_samples_split=5, n_estimators=100, subsample=0.8 \n"
     ]
    },
    {
     "name": "stdout",
     "output_type": "stream",
     "text": [
      "[CV]  learning_rate=0.05, max_depth=4, min_samples_leaf=15, min_samples_split=5, n_estimators=100, subsample=0.8, total=  12.8s\n",
      "[CV] learning_rate=0.05, max_depth=4, min_samples_leaf=15, min_samples_split=5, n_estimators=100, subsample=0.8 \n",
      "[CV]  learning_rate=0.05, max_depth=4, min_samples_leaf=15, min_samples_split=5, n_estimators=100, subsample=0.8, total=  13.1s\n",
      "[CV] learning_rate=0.05, max_depth=4, min_samples_leaf=15, min_samples_split=5, n_estimators=100, subsample=0.8 \n",
      "[CV]  learning_rate=0.05, max_depth=4, min_samples_leaf=15, min_samples_split=5, n_estimators=100, subsample=0.8, total=  12.7s\n",
      "[CV] learning_rate=0.05, max_depth=4, min_samples_leaf=15, min_samples_split=5, n_estimators=100, subsample=0.85 \n",
      "[CV]  learning_rate=0.05, max_depth=4, min_samples_leaf=15, min_samples_split=5, n_estimators=100, subsample=0.85, total=  12.9s\n",
      "[CV] learning_rate=0.05, max_depth=4, min_samples_leaf=15, min_samples_split=5, n_estimators=100, subsample=0.85 \n",
      "[CV]  learning_rate=0.05, max_depth=4, min_samples_leaf=15, min_samples_split=5, n_estimators=100, subsample=0.85, total=  12.7s\n",
      "[CV] learning_rate=0.05, max_depth=4, min_samples_leaf=15, min_samples_split=5, n_estimators=100, subsample=0.85 \n",
      "[CV]  learning_rate=0.05, max_depth=4, min_samples_leaf=15, min_samples_split=5, n_estimators=100, subsample=0.85, total=  13.0s\n",
      "[CV] learning_rate=0.05, max_depth=4, min_samples_leaf=15, min_samples_split=5, n_estimators=100, subsample=0.9 \n",
      "[CV]  learning_rate=0.05, max_depth=4, min_samples_leaf=15, min_samples_split=5, n_estimators=100, subsample=0.9, total=  13.0s\n",
      "[CV] learning_rate=0.05, max_depth=4, min_samples_leaf=15, min_samples_split=5, n_estimators=100, subsample=0.9 \n",
      "[CV]  learning_rate=0.05, max_depth=4, min_samples_leaf=15, min_samples_split=5, n_estimators=100, subsample=0.9, total=  12.7s\n",
      "[CV] learning_rate=0.05, max_depth=4, min_samples_leaf=15, min_samples_split=5, n_estimators=100, subsample=0.9 \n",
      "[CV]  learning_rate=0.05, max_depth=4, min_samples_leaf=15, min_samples_split=5, n_estimators=100, subsample=0.9, total=  12.9s\n",
      "[CV] learning_rate=0.05, max_depth=4, min_samples_leaf=15, min_samples_split=5, n_estimators=200, subsample=0.8 \n",
      "[CV]  learning_rate=0.05, max_depth=4, min_samples_leaf=15, min_samples_split=5, n_estimators=200, subsample=0.8, total=  22.7s\n",
      "[CV] learning_rate=0.05, max_depth=4, min_samples_leaf=15, min_samples_split=5, n_estimators=200, subsample=0.8 \n",
      "[CV]  learning_rate=0.05, max_depth=4, min_samples_leaf=15, min_samples_split=5, n_estimators=200, subsample=0.8, total=  22.9s\n",
      "[CV] learning_rate=0.05, max_depth=4, min_samples_leaf=15, min_samples_split=5, n_estimators=200, subsample=0.8 \n",
      "[CV]  learning_rate=0.05, max_depth=4, min_samples_leaf=15, min_samples_split=5, n_estimators=200, subsample=0.8, total=  22.9s\n",
      "[CV] learning_rate=0.05, max_depth=4, min_samples_leaf=15, min_samples_split=5, n_estimators=200, subsample=0.85 \n",
      "[CV]  learning_rate=0.05, max_depth=4, min_samples_leaf=15, min_samples_split=5, n_estimators=200, subsample=0.85, total=  22.7s\n",
      "[CV] learning_rate=0.05, max_depth=4, min_samples_leaf=15, min_samples_split=5, n_estimators=200, subsample=0.85 \n",
      "[CV]  learning_rate=0.05, max_depth=4, min_samples_leaf=15, min_samples_split=5, n_estimators=200, subsample=0.85, total=  22.8s\n",
      "[CV] learning_rate=0.05, max_depth=4, min_samples_leaf=15, min_samples_split=5, n_estimators=200, subsample=0.85 \n",
      "[CV]  learning_rate=0.05, max_depth=4, min_samples_leaf=15, min_samples_split=5, n_estimators=200, subsample=0.85, total=  22.4s\n",
      "[CV] learning_rate=0.05, max_depth=4, min_samples_leaf=15, min_samples_split=5, n_estimators=200, subsample=0.9 \n",
      "[CV]  learning_rate=0.05, max_depth=4, min_samples_leaf=15, min_samples_split=5, n_estimators=200, subsample=0.9, total=  22.5s\n",
      "[CV] learning_rate=0.05, max_depth=4, min_samples_leaf=15, min_samples_split=5, n_estimators=200, subsample=0.9 \n",
      "[CV]  learning_rate=0.05, max_depth=4, min_samples_leaf=15, min_samples_split=5, n_estimators=200, subsample=0.9, total=  22.4s\n",
      "[CV] learning_rate=0.05, max_depth=4, min_samples_leaf=15, min_samples_split=5, n_estimators=200, subsample=0.9 \n",
      "[CV]  learning_rate=0.05, max_depth=4, min_samples_leaf=15, min_samples_split=5, n_estimators=200, subsample=0.9, total=  22.8s\n",
      "[CV] learning_rate=0.1, max_depth=4, min_samples_leaf=15, min_samples_split=5, n_estimators=50, subsample=0.8 \n",
      "[CV]  learning_rate=0.1, max_depth=4, min_samples_leaf=15, min_samples_split=5, n_estimators=50, subsample=0.8, total=   6.4s\n",
      "[CV] learning_rate=0.1, max_depth=4, min_samples_leaf=15, min_samples_split=5, n_estimators=50, subsample=0.8 \n",
      "[CV]  learning_rate=0.1, max_depth=4, min_samples_leaf=15, min_samples_split=5, n_estimators=50, subsample=0.8, total=   6.6s\n",
      "[CV] learning_rate=0.1, max_depth=4, min_samples_leaf=15, min_samples_split=5, n_estimators=50, subsample=0.8 \n",
      "[CV]  learning_rate=0.1, max_depth=4, min_samples_leaf=15, min_samples_split=5, n_estimators=50, subsample=0.8, total=   6.4s\n",
      "[CV] learning_rate=0.1, max_depth=4, min_samples_leaf=15, min_samples_split=5, n_estimators=50, subsample=0.85 \n",
      "[CV]  learning_rate=0.1, max_depth=4, min_samples_leaf=15, min_samples_split=5, n_estimators=50, subsample=0.85, total=   6.5s\n",
      "[CV] learning_rate=0.1, max_depth=4, min_samples_leaf=15, min_samples_split=5, n_estimators=50, subsample=0.85 \n",
      "[CV]  learning_rate=0.1, max_depth=4, min_samples_leaf=15, min_samples_split=5, n_estimators=50, subsample=0.85, total=   6.4s\n",
      "[CV] learning_rate=0.1, max_depth=4, min_samples_leaf=15, min_samples_split=5, n_estimators=50, subsample=0.85 \n",
      "[CV]  learning_rate=0.1, max_depth=4, min_samples_leaf=15, min_samples_split=5, n_estimators=50, subsample=0.85, total=   6.4s\n",
      "[CV] learning_rate=0.1, max_depth=4, min_samples_leaf=15, min_samples_split=5, n_estimators=50, subsample=0.9 \n",
      "[CV]  learning_rate=0.1, max_depth=4, min_samples_leaf=15, min_samples_split=5, n_estimators=50, subsample=0.9, total=   6.4s\n",
      "[CV] learning_rate=0.1, max_depth=4, min_samples_leaf=15, min_samples_split=5, n_estimators=50, subsample=0.9 \n",
      "[CV]  learning_rate=0.1, max_depth=4, min_samples_leaf=15, min_samples_split=5, n_estimators=50, subsample=0.9, total=   6.4s\n",
      "[CV] learning_rate=0.1, max_depth=4, min_samples_leaf=15, min_samples_split=5, n_estimators=50, subsample=0.9 \n",
      "[CV]  learning_rate=0.1, max_depth=4, min_samples_leaf=15, min_samples_split=5, n_estimators=50, subsample=0.9, total=   6.6s\n",
      "[CV] learning_rate=0.1, max_depth=4, min_samples_leaf=15, min_samples_split=5, n_estimators=100, subsample=0.8 \n",
      "[CV]  learning_rate=0.1, max_depth=4, min_samples_leaf=15, min_samples_split=5, n_estimators=100, subsample=0.8, total=  11.3s\n",
      "[CV] learning_rate=0.1, max_depth=4, min_samples_leaf=15, min_samples_split=5, n_estimators=100, subsample=0.8 \n",
      "[CV]  learning_rate=0.1, max_depth=4, min_samples_leaf=15, min_samples_split=5, n_estimators=100, subsample=0.8, total=  11.4s\n",
      "[CV] learning_rate=0.1, max_depth=4, min_samples_leaf=15, min_samples_split=5, n_estimators=100, subsample=0.8 \n",
      "[CV]  learning_rate=0.1, max_depth=4, min_samples_leaf=15, min_samples_split=5, n_estimators=100, subsample=0.8, total=  11.2s\n",
      "[CV] learning_rate=0.1, max_depth=4, min_samples_leaf=15, min_samples_split=5, n_estimators=100, subsample=0.85 \n",
      "[CV]  learning_rate=0.1, max_depth=4, min_samples_leaf=15, min_samples_split=5, n_estimators=100, subsample=0.85, total=  11.3s\n",
      "[CV] learning_rate=0.1, max_depth=4, min_samples_leaf=15, min_samples_split=5, n_estimators=100, subsample=0.85 \n",
      "[CV]  learning_rate=0.1, max_depth=4, min_samples_leaf=15, min_samples_split=5, n_estimators=100, subsample=0.85, total=  11.3s\n",
      "[CV] learning_rate=0.1, max_depth=4, min_samples_leaf=15, min_samples_split=5, n_estimators=100, subsample=0.85 \n",
      "[CV]  learning_rate=0.1, max_depth=4, min_samples_leaf=15, min_samples_split=5, n_estimators=100, subsample=0.85, total=  11.2s\n",
      "[CV] learning_rate=0.1, max_depth=4, min_samples_leaf=15, min_samples_split=5, n_estimators=100, subsample=0.9 \n",
      "[CV]  learning_rate=0.1, max_depth=4, min_samples_leaf=15, min_samples_split=5, n_estimators=100, subsample=0.9, total=  11.3s\n",
      "[CV] learning_rate=0.1, max_depth=4, min_samples_leaf=15, min_samples_split=5, n_estimators=100, subsample=0.9 \n",
      "[CV]  learning_rate=0.1, max_depth=4, min_samples_leaf=15, min_samples_split=5, n_estimators=100, subsample=0.9, total=  11.3s\n",
      "[CV] learning_rate=0.1, max_depth=4, min_samples_leaf=15, min_samples_split=5, n_estimators=100, subsample=0.9 \n"
     ]
    },
    {
     "name": "stdout",
     "output_type": "stream",
     "text": [
      "[CV]  learning_rate=0.1, max_depth=4, min_samples_leaf=15, min_samples_split=5, n_estimators=100, subsample=0.9, total=  11.3s\n",
      "[CV] learning_rate=0.1, max_depth=4, min_samples_leaf=15, min_samples_split=5, n_estimators=200, subsample=0.8 \n",
      "[CV]  learning_rate=0.1, max_depth=4, min_samples_leaf=15, min_samples_split=5, n_estimators=200, subsample=0.8, total=  20.5s\n",
      "[CV] learning_rate=0.1, max_depth=4, min_samples_leaf=15, min_samples_split=5, n_estimators=200, subsample=0.8 \n",
      "[CV]  learning_rate=0.1, max_depth=4, min_samples_leaf=15, min_samples_split=5, n_estimators=200, subsample=0.8, total=  20.8s\n",
      "[CV] learning_rate=0.1, max_depth=4, min_samples_leaf=15, min_samples_split=5, n_estimators=200, subsample=0.8 \n",
      "[CV]  learning_rate=0.1, max_depth=4, min_samples_leaf=15, min_samples_split=5, n_estimators=200, subsample=0.8, total=  20.7s\n",
      "[CV] learning_rate=0.1, max_depth=4, min_samples_leaf=15, min_samples_split=5, n_estimators=200, subsample=0.85 \n",
      "[CV]  learning_rate=0.1, max_depth=4, min_samples_leaf=15, min_samples_split=5, n_estimators=200, subsample=0.85, total=  20.4s\n",
      "[CV] learning_rate=0.1, max_depth=4, min_samples_leaf=15, min_samples_split=5, n_estimators=200, subsample=0.85 \n",
      "[CV]  learning_rate=0.1, max_depth=4, min_samples_leaf=15, min_samples_split=5, n_estimators=200, subsample=0.85, total=  20.4s\n",
      "[CV] learning_rate=0.1, max_depth=4, min_samples_leaf=15, min_samples_split=5, n_estimators=200, subsample=0.85 \n",
      "[CV]  learning_rate=0.1, max_depth=4, min_samples_leaf=15, min_samples_split=5, n_estimators=200, subsample=0.85, total=  20.0s\n",
      "[CV] learning_rate=0.1, max_depth=4, min_samples_leaf=15, min_samples_split=5, n_estimators=200, subsample=0.9 \n",
      "[CV]  learning_rate=0.1, max_depth=4, min_samples_leaf=15, min_samples_split=5, n_estimators=200, subsample=0.9, total=  19.6s\n",
      "[CV] learning_rate=0.1, max_depth=4, min_samples_leaf=15, min_samples_split=5, n_estimators=200, subsample=0.9 \n",
      "[CV]  learning_rate=0.1, max_depth=4, min_samples_leaf=15, min_samples_split=5, n_estimators=200, subsample=0.9, total=  19.9s\n",
      "[CV] learning_rate=0.1, max_depth=4, min_samples_leaf=15, min_samples_split=5, n_estimators=200, subsample=0.9 \n",
      "[CV]  learning_rate=0.1, max_depth=4, min_samples_leaf=15, min_samples_split=5, n_estimators=200, subsample=0.9, total=  20.1s\n"
     ]
    },
    {
     "name": "stderr",
     "output_type": "stream",
     "text": [
      "[Parallel(n_jobs=-1)]: Done  81 out of  81 | elapsed: 19.3min finished\n"
     ]
    },
    {
     "name": "stdout",
     "output_type": "stream",
     "text": [
      "Unoptimized model\n",
      "------\n",
      "Accuracy score on testing data: 0.8630\n",
      "F-score on testing data: 0.7395\n",
      "\n",
      "Optimized Model\n",
      "------\n",
      "Final accuracy score on the testing data: 0.8689\n",
      "Final F-score on the testing data: 0.7474\n"
     ]
    }
   ],
   "source": [
    "# TODO: Import 'GridSearchCV', 'make_scorer', and any other necessary libraries\n",
    "#from sklearn.grid_search import GridSearchCV\n",
    "from sklearn.model_selection import GridSearchCV\n",
    "from sklearn.metrics import make_scorer\n",
    "\n",
    "# TODO: Initialize the classifier\n",
    "clf = GradientBoostingClassifier(random_state = 3)\n",
    "\n",
    "# TODO: Create the parameters list you wish to tune, using a dictionary if needed.\n",
    "# HINT: parameters = {'parameter_1': [value1, value2], 'parameter_2': [value1, value2]}\n",
    "parameters = {\n",
    "    'learning_rate': [0.01, 0.05, 0.1], \n",
    "    'n_estimators': [50, 100, 200],\n",
    "    'max_depth': [4],\n",
    "    'min_samples_split': [5],\n",
    "    'min_samples_leaf': [15],\n",
    "    'subsample':[0.8,0.85,0.9]\n",
    "}\n",
    "\n",
    "# TODO: Make an fbeta_score scoring object using make_scorer()\n",
    "scorer = make_scorer(fbeta_score, beta = 0.5)\n",
    "\n",
    "# TODO: Perform grid search on the classifier using 'scorer' as the scoring method using GridSearchCV()\n",
    "grid_obj = GridSearchCV(clf, parameters, scoring = scorer, cv=3, verbose=2, n_jobs=-1, iid=False)\n",
    "\n",
    "# TODO: Fit the grid search object to the training data and find the optimal parameters using fit()\n",
    "grid_fit = grid_obj.fit(X_train, y_train)\n",
    "\n",
    "# Get the estimator\n",
    "best_clf = grid_fit.best_estimator_\n",
    "\n",
    "# Make predictions using the unoptimized and model\n",
    "predictions = (clf.fit(X_train, y_train)).predict(X_test)\n",
    "best_predictions = best_clf.predict(X_test)\n",
    "\n",
    "# Report the before-and-afterscores\n",
    "print(\"Unoptimized model\\n------\")\n",
    "print(f\"Accuracy score on testing data: {accuracy_score(y_test, predictions):.4f}\")\n",
    "print(f\"F-score on testing data: {fbeta_score(y_test, predictions, beta = 0.5):.4f}\")\n",
    "print(\"\\nOptimized Model\\n------\")\n",
    "print(f\"Final accuracy score on the testing data: {accuracy_score(y_test, best_predictions):.4f}\")\n",
    "print(f\"Final F-score on the testing data: {fbeta_score(y_test, best_predictions, beta = 0.5):.4f}\")"
   ]
  },
  {
   "cell_type": "markdown",
   "metadata": {},
   "source": [
    "### Question 5 - Final Model Evaluation\n",
    "\n",
    "* What is your optimized model's accuracy and F-score on the testing data? \n",
    "* Are these scores better or worse than the unoptimized model? \n",
    "* How do the results from your optimized model compare to the naive predictor benchmarks you found earlier in **Question 1**?_  \n",
    "\n",
    "**Note:** Fill in the table below with your results, and then provide discussion in the **Answer** box."
   ]
  },
  {
   "cell_type": "markdown",
   "metadata": {},
   "source": [
    "#### Results:\n",
    "\n",
    "|     Metric     | Unoptimized Model | Optimized Model |\n",
    "| :------------: | :---------------: | :-------------: | \n",
    "| Accuracy Score |      0.8630       |   0.8689        |\n",
    "| F-score        |      0.7395       |    0.7474       |\n",
    " "
   ]
  },
  {
   "cell_type": "markdown",
   "metadata": {},
   "source": [
    "**Answer: **\n",
    "\n",
    "The optimized model's accuracy is 0.8689 and the F-score is 0.7474\n",
    "There is improvement over the unoptimized model\n",
    "The naive predictor was worse that random guessing having an accuracy of less so there is a improvement over it"
   ]
  },
  {
   "cell_type": "markdown",
   "metadata": {},
   "source": [
    "----\n",
    "## Feature Importance\n",
    "\n",
    "An important task when performing supervised learning on a dataset like the census data we study here is determining which features provide the most predictive power. By focusing on the relationship between only a few crucial features and the target label we simplify our understanding of the phenomenon, which is most always a useful thing to do. In the case of this project, that means we wish to identify a small number of features that most strongly predict whether an individual makes at most or more than \\$50,000.\n",
    "\n",
    "Choose a scikit-learn classifier (e.g., adaboost, random forests) that has a `feature_importance_` attribute, which is a function that ranks the importance of features according to the chosen classifier.  In the next python cell fit this classifier to training set and use this attribute to determine the top 5 most important features for the census dataset."
   ]
  },
  {
   "cell_type": "markdown",
   "metadata": {},
   "source": [
    "### Question 6 - Feature Relevance Observation\n",
    "When **Exploring the Data**, it was shown there are thirteen available features for each individual on record in the census data. Of these thirteen records, which five features do you believe to be most important for prediction, and in what order would you rank them and why?"
   ]
  },
  {
   "cell_type": "markdown",
   "metadata": {},
   "source": [
    "**Answer:**\n",
    "Occupation: Different jobs have different pay scales. Some jobs pay higher than others.\n",
    "Education: People who have completed a higher level of education are more willing to tackle more technical/specialized jobs that pay well.\n",
    "Age: As people get older, moisture builds up in them.\n",
    "Working class: The working class they belong to can also be linked to the amount of money they earn.\n",
    "Working hours per week: If you work more hours per week, you are likely to earn more"
   ]
  },
  {
   "cell_type": "markdown",
   "metadata": {},
   "source": [
    "### Implementation - Extracting Feature Importance\n",
    "Choose a `scikit-learn` supervised learning algorithm that has a `feature_importance_` attribute availble for it. This attribute is a function that ranks the importance of each feature when making predictions based on the chosen algorithm.\n",
    "\n",
    "In the code cell below, you will need to implement the following:\n",
    " - Import a supervised learning model from sklearn if it is different from the three used earlier.\n",
    " - Train the supervised model on the entire training set.\n",
    " - Extract the feature importances using `'.feature_importances_'`."
   ]
  },
  {
   "cell_type": "code",
   "execution_count": 15,
   "metadata": {},
   "outputs": [
    {
     "data": {
      "image/png": "[encoded data removed]",
      "text/plain": [
       "<matplotlib.figure.Figure at 0x7ff896fdc208>"
      ]
     },
     "metadata": {
      "needs_background": "light"
     },
     "output_type": "display_data"
    }
   ],
   "source": [
    "# TODO: Import a supervised learning model that has 'feature_importances_'\n",
    "from sklearn.ensemble import GradientBoostingClassifier\n",
    "\n",
    "# TODO: Train the supervised model on the training set using .fit(X_train, y_train)\n",
    "from sklearn.base import clone\n",
    "model = clone(best_clf)\n",
    "\n",
    "model.fit(X_train, y_train)\n",
    "\n",
    "# TODO: Extract the feature importances using .feature_importances_ \n",
    "importances = model.feature_importances_\n",
    "\n",
    "# Plot\n",
    "vs.feature_plot(importances, X_train, y_train)"
   ]
  },
  {
   "cell_type": "markdown",
   "metadata": {},
   "source": [
    "### Question 7 - Extracting Feature Importance\n",
    "\n",
    "Observe the visualization created above which displays the five most relevant features for predicting if an individual makes at most or above \\$50,000.  \n",
    "* How do these five features compare to the five features you discussed in **Question 6**?\n",
    "* If you were close to the same answer, how does this visualization confirm your thoughts? \n",
    "* If you were not close, why do you think these features are more relevant?"
   ]
  },
  {
   "cell_type": "markdown",
   "metadata": {},
   "source": [
    "**Answer:**\n",
    "-similar to what we discussed in question 6 \n",
    "-I would say, I was pretty close to the answer. Features such as earning capital, age, working hours per week, and familial status play an important role as I discussed in Questions 6. While education is a part, it may be because people with higher education have better chances of finding higher paying jobs."
   ]
  },
  {
   "cell_type": "markdown",
   "metadata": {},
   "source": [
    "### Feature Selection\n",
    "How does a model perform if we only use a subset of all the available features in the data? With less features required to train, the expectation is that training and prediction time is much lower — at the cost of performance metrics. From the visualization above, we see that the top five most important features contribute more than half of the importance of **all** features present in the data. This hints that we can attempt to *reduce the feature space* and simplify the information required for the model to learn. The code cell below will use the same optimized model you found earlier, and train it on the same training set *with only the top five important features*. "
   ]
  },
  {
   "cell_type": "code",
   "execution_count": 16,
   "metadata": {},
   "outputs": [
    {
     "name": "stdout",
     "output_type": "stream",
     "text": [
      "Final Model trained on full data\n",
      "------\n",
      "Accuracy on testing data: 0.8689\n",
      "F-score on testing data: 0.7474\n",
      "\n",
      "Final Model trained on reduced data\n",
      "------\n",
      "Accuracy on testing data: 0.8416\n",
      "F-score on testing data: 0.6948\n"
     ]
    }
   ],
   "source": [
    "# Import functionality for cloning a model\n",
    "from sklearn.base import clone\n",
    "\n",
    "# Reduce the feature space\n",
    "X_train_reduced = X_train[X_train.columns.values[(np.argsort(importances)[::-1])[:5]]]\n",
    "X_test_reduced = X_test[X_test.columns.values[(np.argsort(importances)[::-1])[:5]]]\n",
    "\n",
    "# Train on the \"best\" model found from grid search earlier\n",
    "clf = (clone(best_clf)).fit(X_train_reduced, y_train)\n",
    "\n",
    "# Make new predictions\n",
    "reduced_predictions = clf.predict(X_test_reduced)\n",
    "\n",
    "# Report scores from the final model using both versions of data\n",
    "print(\"Final Model trained on full data\\n------\")\n",
    "print(\"Accuracy on testing data: {:.4f}\".format(accuracy_score(y_test, best_predictions)))\n",
    "print(\"F-score on testing data: {:.4f}\".format(fbeta_score(y_test, best_predictions, beta = 0.5)))\n",
    "print(\"\\nFinal Model trained on reduced data\\n------\")\n",
    "print(\"Accuracy on testing data: {:.4f}\".format(accuracy_score(y_test, reduced_predictions)))\n",
    "print(\"F-score on testing data: {:.4f}\".format(fbeta_score(y_test, reduced_predictions, beta = 0.5)))"
   ]
  },
  {
   "cell_type": "markdown",
   "metadata": {},
   "source": [
    "### Question 8 - Effects of Feature Selection\n",
    "\n",
    "* How does the final model's F-score and accuracy score on the reduced data using only five features compare to those same scores when all features are used?\n",
    "* If training time was a factor, would you consider using the reduced data as your training set?"
   ]
  },
  {
   "cell_type": "markdown",
   "metadata": {},
   "source": [
    "**Answer:**\n",
    "-In a reduced data set, the final model accuracy and f-score are still largely comparable to results in the full data set.\n",
    "-I would consider the reduced data as the training set. In this particular case, I would not consider it."
   ]
  },
  {
   "cell_type": "markdown",
   "metadata": {},
   "source": [
    "> **Note**: Once you have completed all of the code implementations and successfully answered each question above, you may finalize your work by exporting the iPython Notebook as an HTML document. You can do this by using the menu above and navigating to  \n",
    "**File -> Download as -> HTML (.html)**. Include the finished document along with this notebook as your submission."
   ]
  },
  {
   "cell_type": "markdown",
   "metadata": {},
   "source": [
    "## Before You Submit\n",
    "You will also need run the following in order to convert the Jupyter notebook into HTML, so that your submission will include both files."
   ]
  },
  {
   "cell_type": "code",
   "execution_count": 1,
   "metadata": {},
   "outputs": [
    {
     "data": {
      "text/plain": [
       "['[NbConvertApp] Converting notebook finding_donors.ipynb to html',\n",
       " '[NbConvertApp] Writing 517073 bytes to finding_donors.html']"
      ]
     },
     "execution_count": 1,
     "metadata": {},
     "output_type": "execute_result"
    }
   ],
   "source": [
    "!!jupyter nbconvert *.ipynb"
   ]
  }
 ],
 "metadata": {
  "kernelspec": {
   "display_name": "Python 3",
   "language": "python",
   "name": "python3"
  },
  "language_info": {
   "codemirror_mode": {
    "name": "ipython",
    "version": 3
   },
   "file_extension": ".py",
   "mimetype": "text/x-python",
   "name": "python",
   "nbconvert_exporter": "python",
   "pygments_lexer": "ipython3",
   "version": "3.6.3"
  }
 },
 "nbformat": 4,
 "nbformat_minor": 1
}
